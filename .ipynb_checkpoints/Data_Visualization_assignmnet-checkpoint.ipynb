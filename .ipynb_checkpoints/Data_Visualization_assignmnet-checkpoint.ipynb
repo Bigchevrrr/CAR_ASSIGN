{
 "cells": [
  {
   "cell_type": "markdown",
   "id": "82c96ac5",
   "metadata": {},
   "source": [
    "# ASSIGNEMNT"
   ]
  },
  {
   "cell_type": "markdown",
   "id": "37aec9f7",
   "metadata": {},
   "source": [
    "### 1) What are categorical variables?"
   ]
  },
  {
   "cell_type": "code",
   "execution_count": null,
   "id": "e7366b60",
   "metadata": {},
   "outputs": [],
   "source": []
  },
  {
   "cell_type": "markdown",
   "id": "feecef87",
   "metadata": {},
   "source": [
    "### 2) What are numerical variables?"
   ]
  },
  {
   "cell_type": "code",
   "execution_count": null,
   "id": "c54a5b3c",
   "metadata": {},
   "outputs": [],
   "source": []
  },
  {
   "cell_type": "markdown",
   "id": "21a9ea96",
   "metadata": {},
   "source": [
    "### 3) When do we use each of the following plots?\n",
    "- a) Scatter plot\n",
    "- b) Lineplot\n",
    "- c) Bar plot\n",
    "- d) Sub plot"
   ]
  },
  {
   "cell_type": "markdown",
   "id": "b0a4c174",
   "metadata": {},
   "source": [
    "### 4) Using the Addidas sales data, explain the correlation between price per unit and Operting profit using the appropriate chart."
   ]
  },
  {
   "cell_type": "code",
   "execution_count": null,
   "id": "7a6ff62f",
   "metadata": {},
   "outputs": [],
   "source": []
  },
  {
   "cell_type": "code",
   "execution_count": null,
   "id": "a5432c5c",
   "metadata": {},
   "outputs": [],
   "source": []
  },
  {
   "cell_type": "markdown",
   "id": "451142b3",
   "metadata": {},
   "source": [
    "### 5) Using the Addidas sales data, plot a chart of the following\n",
    "- Unit sold vs total sales\n",
    "- Region vs total sales\n"
   ]
  },
  {
   "cell_type": "code",
   "execution_count": null,
   "id": "db8405ad",
   "metadata": {},
   "outputs": [],
   "source": []
  },
  {
   "cell_type": "markdown",
   "id": "cde13759",
   "metadata": {},
   "source": [
    "### 6) Using the Addidas sales data, as a Data analyst, which product should Addidas invest more in?"
   ]
  },
  {
   "cell_type": "code",
   "execution_count": null,
   "id": "207e1b0b",
   "metadata": {},
   "outputs": [],
   "source": []
  }
 ],
 "metadata": {
  "kernelspec": {
   "display_name": "Python 3 (ipykernel)",
   "language": "python",
   "name": "python3"
  },
  "language_info": {
   "codemirror_mode": {
    "name": "ipython",
    "version": 3
   },
   "file_extension": ".py",
   "mimetype": "text/x-python",
   "name": "python",
   "nbconvert_exporter": "python",
   "pygments_lexer": "ipython3",
   "version": "3.8.4"
  }
 },
 "nbformat": 4,
 "nbformat_minor": 5
}
